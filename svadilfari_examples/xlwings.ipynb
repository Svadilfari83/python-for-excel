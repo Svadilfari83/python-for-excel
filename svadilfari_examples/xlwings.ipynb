{
 "cells": [
  {
   "cell_type": "code",
   "execution_count": 3,
   "metadata": {},
   "outputs": [],
   "source": [
    "import maya as maya\n",
    "import xlwings as xw\n",
    "import numpy as np\n",
    "import pandas as pd"
   ]
  },
  {
   "cell_type": "code",
   "execution_count": 5,
   "metadata": {},
   "outputs": [
    {
     "data": {
      "text/plain": [
       "<Book [Mappe1]>"
      ]
     },
     "execution_count": 5,
     "metadata": {},
     "output_type": "execute_result"
    }
   ],
   "source": [
    "xw.Book()"
   ]
  }
 ],
 "metadata": {
  "interpreter": {
   "hash": "fbb07c1b4ee043afde85014a24ac5d6a0e3352116a238fa86f5e42cd58b1f153"
  },
  "kernelspec": {
   "display_name": "Python 3.10.0 ('.venvpythonexcel': venv)",
   "language": "python",
   "name": "python3"
  },
  "language_info": {
   "codemirror_mode": {
    "name": "ipython",
    "version": 3
   },
   "file_extension": ".py",
   "mimetype": "text/x-python",
   "name": "python",
   "nbconvert_exporter": "python",
   "pygments_lexer": "ipython3",
   "version": "3.10.0"
  },
  "orig_nbformat": 4
 },
 "nbformat": 4,
 "nbformat_minor": 2
}
